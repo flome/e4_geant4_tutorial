{
 "cells": [
  {
   "cell_type": "code",
   "execution_count": null,
   "metadata": {},
   "outputs": [],
   "source": [
    "import pandas as pd\n",
    "import numpy as np\n",
    "import matplotlib as mpl\n",
    "import matplotlib.pyplot as plt"
   ]
  },
  {
   "cell_type": "code",
   "execution_count": null,
   "metadata": {},
   "outputs": [],
   "source": [
    "mpl.rcParams.update({'font.size': 16})"
   ]
  },
  {
   "cell_type": "code",
   "execution_count": null,
   "metadata": {},
   "outputs": [],
   "source": [
    "data = pd.read_csv(\"results.csv\", skiprows=2)\n",
    "data"
   ]
  },
  {
   "cell_type": "code",
   "execution_count": null,
   "metadata": {},
   "outputs": [],
   "source": [
    "# renaming for simplicity\n",
    "data.columns=['x', 'y', 'z', 'edep', 'edep^2', 'nhits']"
   ]
  },
  {
   "cell_type": "code",
   "execution_count": null,
   "metadata": {},
   "outputs": [],
   "source": [
    "# depth dose\n",
    "\n",
    "# z-coordinate\n",
    "x = np.arange(data['z'].min(), data['z'].max()+1)\n",
    "\n",
    "# edep\n",
    "y_list = data['edep']\n",
    "# transform list into 3D object\n",
    "y_3D = y_list.values.reshape(30, 30, 30)\n",
    "# project on depth (z)\n",
    "y = y_3D.sum(axis=(0,1))\n",
    "\n",
    "plt.plot(x, y, '.', label='Geant4')\n",
    "plt.xlabel('$z$ in mm')\n",
    "plt.ylabel('$E_\\\\mathrm{dep}$ in MeV')\n",
    "\n",
    "plt.legend(loc='best')\n",
    "plt.tight_layout()"
   ]
  },
  {
   "cell_type": "code",
   "execution_count": null,
   "metadata": {},
   "outputs": [],
   "source": [
    "# edep in horizontal plane\n",
    "y = y_3D[:, 15, :] # 15, because it starts at -15cm to 15cm\n",
    "im = plt.imshow(y)\n",
    "plt.title(\"$E_\\\\mathrm{dep}$ at $y=0$\")\n",
    "plt.xlabel('$z$ in mm')\n",
    "plt.ylabel('$x$ in mm')\n",
    "plt.colorbar(im, label='$E_\\\\mathrm{dep}$ in MeV')"
   ]
  },
  {
   "cell_type": "code",
   "execution_count": null,
   "metadata": {},
   "outputs": [],
   "source": [
    "# edep in horizontal plane\n",
    "y = y_3D[:, 15, :] # 15, because it starts at -15cm to 15cm\n",
    "y[np.where(y<=0)] = np.nan # this can be useful to inspect results but be careful!\n",
    "im = plt.imshow(y) \n",
    "plt.title(\"$y=0$\")\n",
    "plt.xlabel('$z$ in mm')\n",
    "plt.ylabel('$x$ in mm')\n",
    "plt.colorbar(im, label='$E_\\\\mathrm{dep}$ in MeV')"
   ]
  },
  {
   "cell_type": "code",
   "execution_count": null,
   "metadata": {},
   "outputs": [],
   "source": []
  }
 ],
 "metadata": {
  "kernelspec": {
   "display_name": "Python 3",
   "language": "python",
   "name": "python3"
  },
  "language_info": {
   "codemirror_mode": {
    "name": "ipython",
    "version": 3
   },
   "file_extension": ".py",
   "mimetype": "text/x-python",
   "name": "python",
   "nbconvert_exporter": "python",
   "pygments_lexer": "ipython3",
   "version": "3.6.11"
  }
 },
 "nbformat": 4,
 "nbformat_minor": 4
}
